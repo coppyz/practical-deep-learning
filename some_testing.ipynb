{
 "cells": [
  {
   "cell_type": "code",
   "execution_count": 3,
   "id": "c1d5d470",
   "metadata": {},
   "outputs": [
    {
     "name": "stdout",
     "output_type": "stream",
     "text": [
      "slice(0, 10, None)\n",
      "[0 1 2 3 4 5 6 7 8 9]\n",
      "slice(10, 20, None)\n",
      "[10 11 12 13 14 15 16 17 18 19]\n",
      "slice(20, 30, None)\n",
      "[20 21 22 23 24 25 26 27 28 29]\n",
      "slice(30, 40, None)\n",
      "[30 31 32 33 34 35 36 37 38 39]\n",
      "slice(40, 50, None)\n",
      "[40 41 42 43 44 45 46 47 48 49]\n"
     ]
    }
   ],
   "source": [
    "import numpy as np\n",
    "fold_size = 10\n",
    "k = 5\n",
    "\n",
    "x = np.arange(50)\n",
    "\n",
    "for j in range(k):\n",
    "    # 本折的样本索引区间 [j*fold_size, (j+1)*fold_size)\n",
    "    idx = slice(j * fold_size, (j + 1) * fold_size)\n",
    "    print(idx)\n",
    "    print(x[idx])"
   ]
  },
  {
   "cell_type": "code",
   "execution_count": null,
   "id": "42ed8ea8",
   "metadata": {},
   "outputs": [],
   "source": []
  }
 ],
 "metadata": {
  "kernelspec": {
   "display_name": "DataAnalysis",
   "language": "python",
   "name": "dataanalysis"
  },
  "language_info": {
   "codemirror_mode": {
    "name": "ipython",
    "version": 3
   },
   "file_extension": ".py",
   "mimetype": "text/x-python",
   "name": "python",
   "nbconvert_exporter": "python",
   "pygments_lexer": "ipython3",
   "version": "3.9.18"
  }
 },
 "nbformat": 4,
 "nbformat_minor": 5
}
