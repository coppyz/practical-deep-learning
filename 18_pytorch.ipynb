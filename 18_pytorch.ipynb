{
 "cells": [
  {
   "cell_type": "code",
   "execution_count": 53,
   "id": "8629b1aa",
   "metadata": {},
   "outputs": [
    {
     "name": "stdout",
     "output_type": "stream",
     "text": [
      "tensor([[ 388, -949,  355,  564],\n",
      "        [ 236, -732, -886, -698],\n",
      "        [ 171, -826,  485, -693]])\n"
     ]
    }
   ],
   "source": [
    "import torch\n",
    "\n",
    "boxes_nms=torch.randint(-1000,1000,(3,4))\n",
    "print(boxes_nms)"
   ]
  },
  {
   "cell_type": "code",
   "execution_count": 54,
   "id": "061d44ab",
   "metadata": {},
   "outputs": [
    {
     "data": {
      "text/plain": [
       "tensor([[ 388, -949,  355,  564],\n",
       "        [ 236, -732, -886, -698],\n",
       "        [ 171, -826,  485, -693]])"
      ]
     },
     "execution_count": 54,
     "metadata": {},
     "output_type": "execute_result"
    }
   ],
   "source": [
    "boxes_nms[:, 0] = torch.clamp(boxes_nms[:, 0], 10)\n",
    "boxes_nms[:, 1] = torch.clamp(boxes_nms[:, 1], max=500)\n",
    "boxes_nms"
   ]
  },
  {
   "cell_type": "code",
   "execution_count": 55,
   "id": "07de8db6",
   "metadata": {},
   "outputs": [
    {
     "data": {
      "text/plain": [
       "(tensor([[0.8823, 0.9150, 0.3829, 0.9593, 0.3904, 0.6009, 0.2566, 0.7936, 0.9408,\n",
       "          0.1332, 0.9346, 0.5936, 0.8694, 0.5677, 0.7411, 0.4294, 0.8854, 0.5739,\n",
       "          0.2666, 0.6274],\n",
       "         [0.2696, 0.4414, 0.2969, 0.8317, 0.1053, 0.2695, 0.3588, 0.1994, 0.5472,\n",
       "          0.0062, 0.9516, 0.0753, 0.8860, 0.5832, 0.3376, 0.8090, 0.5779, 0.9040,\n",
       "          0.5547, 0.3423]]),\n",
       " tensor([[-0.2252,  0.2366,  0.0591, -0.1059, -0.2802, -0.3032,  0.1990, -0.1906,\n",
       "          -0.0541, -0.0177],\n",
       "         [-0.1857,  0.2777,  0.0907, -0.1178, -0.2714, -0.1451,  0.2068, -0.0855,\n",
       "          -0.1081,  0.0178]], grad_fn=<AddmmBackward0>))"
      ]
     },
     "execution_count": 55,
     "metadata": {},
     "output_type": "execute_result"
    }
   ],
   "source": [
    "from torch import nn\n",
    "from torch.nn import functional as F\n",
    "\n",
    "net = nn.Sequential(nn.Linear(20, 256),\n",
    "                    nn.ReLU(),\n",
    "                    nn.Linear(256, 10))\n",
    "torch.manual_seed(42)\n",
    "X = torch.rand(2, 20)\n",
    "\n",
    "X, net(X)"
   ]
  },
  {
   "cell_type": "code",
   "execution_count": 56,
   "id": "6866058f",
   "metadata": {},
   "outputs": [
    {
     "data": {
      "text/plain": [
       "(tensor([[0.8823, 0.9150, 0.3829, 0.9593, 0.3904, 0.6009, 0.2566, 0.7936, 0.9408,\n",
       "          0.1332, 0.9346, 0.5936, 0.8694, 0.5677, 0.7411, 0.4294, 0.8854, 0.5739,\n",
       "          0.2666, 0.6274],\n",
       "         [0.2696, 0.4414, 0.2969, 0.8317, 0.1053, 0.2695, 0.3588, 0.1994, 0.5472,\n",
       "          0.0062, 0.9516, 0.0753, 0.8860, 0.5832, 0.3376, 0.8090, 0.5779, 0.9040,\n",
       "          0.5547, 0.3423]]),\n",
       " tensor([[ 0.1074,  0.1122, -0.0164, -0.1884,  0.2030,  0.1430,  0.0029, -0.0170,\n",
       "           0.0118, -0.3402],\n",
       "         [ 0.0556,  0.0728,  0.0151, -0.1841,  0.2343,  0.1248,  0.0682,  0.0488,\n",
       "          -0.0727, -0.1874]], grad_fn=<AddmmBackward0>))"
      ]
     },
     "execution_count": 56,
     "metadata": {},
     "output_type": "execute_result"
    }
   ],
   "source": [
    "# define a MLP module, implement the same funtion as Net above\n",
    "class MLP(nn.Module):\n",
    "    def __init__(self):\n",
    "        super().__init__()\n",
    "        self.hidden = nn.Linear(20, 256)\n",
    "        self.out = nn.Linear(256, 10)\n",
    "    \n",
    "    def forward(self, X):\n",
    "        return self.out(F.relu(self.hidden(X)))\n",
    "    \n",
    "net = MLP()\n",
    "X, net(X)"
   ]
  },
  {
   "cell_type": "markdown",
   "id": "2a05cd01",
   "metadata": {},
   "source": [
    "### Parameter managements"
   ]
  },
  {
   "cell_type": "code",
   "execution_count": 57,
   "id": "93269cf2",
   "metadata": {},
   "outputs": [
    {
     "data": {
      "text/plain": [
       "tensor([[-0.1784],\n",
       "        [-0.2106]], grad_fn=<AddmmBackward0>)"
      ]
     },
     "execution_count": 57,
     "metadata": {},
     "output_type": "execute_result"
    }
   ],
   "source": [
    "import torch\n",
    "from torch import nn\n",
    "\n",
    "net = nn.Sequential(nn.Linear(4,8),\n",
    "                    nn.ReLU(),\n",
    "                    nn.Linear(8,1))\n",
    "\n",
    "X = torch.rand((2,4))\n",
    "net(X)"
   ]
  },
  {
   "cell_type": "code",
   "execution_count": 62,
   "id": "5099e48a",
   "metadata": {},
   "outputs": [
    {
     "name": "stdout",
     "output_type": "stream",
     "text": [
      "OrderedDict([('weight', tensor([[ 0.0138, -0.2764, -0.1944,  0.2576,  0.0113, -0.1603,  0.2390, -0.1049]])), ('bias', tensor([-0.1438]))])\n"
     ]
    }
   ],
   "source": [
    "# access those parameters in layers\n",
    "print(net[2].state_dict())\n"
   ]
  },
  {
   "cell_type": "code",
   "execution_count": 63,
   "id": "d37afb97",
   "metadata": {},
   "outputs": [
    {
     "name": "stdout",
     "output_type": "stream",
     "text": [
      "<class 'torch.nn.parameter.Parameter'>\n",
      "Parameter containing:\n",
      "tensor([-0.1438], requires_grad=True)\n",
      "tensor([-0.1438])\n"
     ]
    }
   ],
   "source": [
    "print(type(net[2].bias))\n",
    "print(net[2].bias)\n",
    "print(net[2].bias.data)"
   ]
  },
  {
   "cell_type": "code",
   "execution_count": 71,
   "id": "b031ab4d",
   "metadata": {},
   "outputs": [
    {
     "name": "stdout",
     "output_type": "stream",
     "text": [
      "('weight', torch.Size([8, 4])) ('bias', torch.Size([8]))\n",
      "('0.weight', torch.Size([8, 4])) ('0.bias', torch.Size([8])) ('2.weight', torch.Size([1, 8])) ('2.bias', torch.Size([1]))\n"
     ]
    }
   ],
   "source": [
    "print(*[(name, param.shape) for name, param in net[0].named_parameters()])\n",
    "\n",
    "print(*[(name, param.shape) for name, param in net.named_parameters()])\n"
   ]
  },
  {
   "cell_type": "code",
   "execution_count": null,
   "id": "c17fe831",
   "metadata": {},
   "outputs": [
    {
     "name": "stdout",
     "output_type": "stream",
     "text": [
      "tensor([-0.1438])\n",
      "tensor([-0.1438])\n"
     ]
    }
   ],
   "source": [
    "print(net[2].state_dict()['bias'].data)\n",
    "print(net.state_dict()['2.bias'].data) # same as"
   ]
  },
  {
   "cell_type": "code",
   "execution_count": 82,
   "id": "ab62a08f",
   "metadata": {},
   "outputs": [
    {
     "data": {
      "text/plain": [
       "tensor([[-0.2327],\n",
       "        [-0.2327]], grad_fn=<AddmmBackward0>)"
      ]
     },
     "execution_count": 82,
     "metadata": {},
     "output_type": "execute_result"
    }
   ],
   "source": [
    "def block1():\n",
    "    return nn.Sequential(nn.Linear(4,8),\n",
    "                         nn.ReLU(),\n",
    "                         nn.Linear(8,4),\n",
    "                         nn.ReLU())\n",
    "\n",
    "def block2():\n",
    "    net = nn.Sequential()\n",
    "    for i in range(4):\n",
    "        net.add_module(f'block {i}', block1())\n",
    "    return net\n",
    "\n",
    "rgnet = nn.Sequential(block2(), nn.Linear(4,1))\n",
    "rgnet(X)"
   ]
  },
  {
   "cell_type": "code",
   "execution_count": 84,
   "id": "d62c6bd6",
   "metadata": {},
   "outputs": [
    {
     "name": "stdout",
     "output_type": "stream",
     "text": [
      "('0.block 0.0.weight', torch.Size([8, 4]))\n",
      "('0.block 0.0.bias', torch.Size([8]))\n",
      "('0.block 0.2.weight', torch.Size([4, 8]))\n",
      "('0.block 0.2.bias', torch.Size([4]))\n",
      "('0.block 1.0.weight', torch.Size([8, 4]))\n",
      "('0.block 1.0.bias', torch.Size([8]))\n",
      "('0.block 1.2.weight', torch.Size([4, 8]))\n",
      "('0.block 1.2.bias', torch.Size([4]))\n",
      "('0.block 2.0.weight', torch.Size([8, 4]))\n",
      "('0.block 2.0.bias', torch.Size([8]))\n",
      "('0.block 2.2.weight', torch.Size([4, 8]))\n",
      "('0.block 2.2.bias', torch.Size([4]))\n",
      "('0.block 3.0.weight', torch.Size([8, 4]))\n",
      "('0.block 3.0.bias', torch.Size([8]))\n",
      "('0.block 3.2.weight', torch.Size([4, 8]))\n",
      "('0.block 3.2.bias', torch.Size([4]))\n",
      "('1.weight', torch.Size([1, 4]))\n",
      "('1.bias', torch.Size([1]))\n"
     ]
    }
   ],
   "source": [
    "print(*[(name, param.shape) for name, param in rgnet.named_parameters()], sep=\"\\n\")"
   ]
  },
  {
   "cell_type": "code",
   "execution_count": null,
   "id": "2921793d",
   "metadata": {},
   "outputs": [],
   "source": []
  },
  {
   "cell_type": "code",
   "execution_count": null,
   "id": "b186cc46",
   "metadata": {},
   "outputs": [],
   "source": []
  }
 ],
 "metadata": {
  "kernelspec": {
   "display_name": "DataAnalysis",
   "language": "python",
   "name": "dataanalysis"
  },
  "language_info": {
   "codemirror_mode": {
    "name": "ipython",
    "version": 3
   },
   "file_extension": ".py",
   "mimetype": "text/x-python",
   "name": "python",
   "nbconvert_exporter": "python",
   "pygments_lexer": "ipython3",
   "version": "3.9.18"
  }
 },
 "nbformat": 4,
 "nbformat_minor": 5
}
