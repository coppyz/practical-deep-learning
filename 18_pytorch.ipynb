{
 "cells": [
  {
   "cell_type": "code",
   "execution_count": 14,
   "id": "8629b1aa",
   "metadata": {},
   "outputs": [
    {
     "name": "stdout",
     "output_type": "stream",
     "text": [
      "tensor([[ 501,   10, -520, -122],\n",
      "        [  17,  588, -698,  664],\n",
      "        [ 312, -359, -300, -389]])\n"
     ]
    }
   ],
   "source": [
    "import torch\n",
    "\n",
    "boxes_nms=torch.randint(-1000,1000,(3,4))\n",
    "print(boxes_nms)"
   ]
  },
  {
   "cell_type": "code",
   "execution_count": 15,
   "id": "061d44ab",
   "metadata": {},
   "outputs": [
    {
     "data": {
      "text/plain": [
       "tensor([[ 501,   10, -520, -122],\n",
       "        [  17,  500, -698,  664],\n",
       "        [ 312, -359, -300, -389]])"
      ]
     },
     "execution_count": 15,
     "metadata": {},
     "output_type": "execute_result"
    }
   ],
   "source": [
    "boxes_nms[:, 0] = torch.clamp(boxes_nms[:, 0], 10)\n",
    "boxes_nms[:, 1] = torch.clamp(boxes_nms[:, 1], max=500)\n",
    "boxes_nms"
   ]
  },
  {
   "cell_type": "code",
   "execution_count": 16,
   "id": "07de8db6",
   "metadata": {},
   "outputs": [
    {
     "data": {
      "text/plain": [
       "(tensor([[0.8823, 0.9150, 0.3829, 0.9593, 0.3904, 0.6009, 0.2566, 0.7936, 0.9408,\n",
       "          0.1332, 0.9346, 0.5936, 0.8694, 0.5677, 0.7411, 0.4294, 0.8854, 0.5739,\n",
       "          0.2666, 0.6274],\n",
       "         [0.2696, 0.4414, 0.2969, 0.8317, 0.1053, 0.2695, 0.3588, 0.1994, 0.5472,\n",
       "          0.0062, 0.9516, 0.0753, 0.8860, 0.5832, 0.3376, 0.8090, 0.5779, 0.9040,\n",
       "          0.5547, 0.3423]]),\n",
       " tensor([[ 0.1924, -0.0091,  0.4433, -0.2924,  0.0434, -0.3230, -0.0967, -0.0847,\n",
       "          -0.0464,  0.3652],\n",
       "         [ 0.2456, -0.0599,  0.2142, -0.2261,  0.0586, -0.1186, -0.1335, -0.1829,\n",
       "          -0.0717,  0.2763]], grad_fn=<AddmmBackward0>))"
      ]
     },
     "execution_count": 16,
     "metadata": {},
     "output_type": "execute_result"
    }
   ],
   "source": [
    "from torch import nn\n",
    "from torch.nn import functional as F\n",
    "\n",
    "net = nn.Sequential(nn.Linear(20, 256),\n",
    "                    nn.ReLU(),\n",
    "                    nn.Linear(256, 10))\n",
    "torch.manual_seed(42)\n",
    "X = torch.rand(2, 20)\n",
    "\n",
    "X, net(X)"
   ]
  },
  {
   "cell_type": "code",
   "execution_count": 17,
   "id": "6866058f",
   "metadata": {},
   "outputs": [
    {
     "data": {
      "text/plain": [
       "(tensor([[0.8823, 0.9150, 0.3829, 0.9593, 0.3904, 0.6009, 0.2566, 0.7936, 0.9408,\n",
       "          0.1332, 0.9346, 0.5936, 0.8694, 0.5677, 0.7411, 0.4294, 0.8854, 0.5739,\n",
       "          0.2666, 0.6274],\n",
       "         [0.2696, 0.4414, 0.2969, 0.8317, 0.1053, 0.2695, 0.3588, 0.1994, 0.5472,\n",
       "          0.0062, 0.9516, 0.0753, 0.8860, 0.5832, 0.3376, 0.8090, 0.5779, 0.9040,\n",
       "          0.5547, 0.3423]]),\n",
       " tensor([[ 0.1074,  0.1122, -0.0164, -0.1884,  0.2030,  0.1430,  0.0029, -0.0170,\n",
       "           0.0118, -0.3402],\n",
       "         [ 0.0556,  0.0728,  0.0151, -0.1841,  0.2343,  0.1248,  0.0682,  0.0488,\n",
       "          -0.0727, -0.1874]], grad_fn=<AddmmBackward0>))"
      ]
     },
     "execution_count": 17,
     "metadata": {},
     "output_type": "execute_result"
    }
   ],
   "source": [
    "# define a MLP module, implement the same funtion as Net above\n",
    "class MLP(nn.Module):\n",
    "    def __init__(self):\n",
    "        super().__init__()\n",
    "        self.hidden = nn.Linear(20, 256)\n",
    "        self.out = nn.Linear(256, 10)\n",
    "    \n",
    "    def forward(self, X):\n",
    "        return self.out(F.relu(self.hidden(X)))\n",
    "    \n",
    "net = MLP()\n",
    "X, net(X)"
   ]
  },
  {
   "cell_type": "markdown",
   "id": "2a05cd01",
   "metadata": {},
   "source": [
    "### Parameter managements"
   ]
  },
  {
   "cell_type": "code",
   "execution_count": 18,
   "id": "93269cf2",
   "metadata": {},
   "outputs": [
    {
     "data": {
      "text/plain": [
       "tensor([[-0.1784],\n",
       "        [-0.2106]], grad_fn=<AddmmBackward0>)"
      ]
     },
     "execution_count": 18,
     "metadata": {},
     "output_type": "execute_result"
    }
   ],
   "source": [
    "import torch\n",
    "from torch import nn\n",
    "\n",
    "net = nn.Sequential(nn.Linear(4,8),\n",
    "                    nn.ReLU(),\n",
    "                    nn.Linear(8,1))\n",
    "\n",
    "X = torch.rand((2,4))\n",
    "net(X)"
   ]
  },
  {
   "cell_type": "code",
   "execution_count": 19,
   "id": "5099e48a",
   "metadata": {},
   "outputs": [
    {
     "name": "stdout",
     "output_type": "stream",
     "text": [
      "OrderedDict([('weight', tensor([[ 0.0138, -0.2764, -0.1944,  0.2576,  0.0113, -0.1603,  0.2390, -0.1049]])), ('bias', tensor([-0.1438]))])\n"
     ]
    }
   ],
   "source": [
    "# access those parameters in layers\n",
    "print(net[2].state_dict())\n"
   ]
  },
  {
   "cell_type": "code",
   "execution_count": 20,
   "id": "d37afb97",
   "metadata": {},
   "outputs": [
    {
     "name": "stdout",
     "output_type": "stream",
     "text": [
      "<class 'torch.nn.parameter.Parameter'>\n",
      "Parameter containing:\n",
      "tensor([-0.1438], requires_grad=True)\n",
      "tensor([-0.1438])\n"
     ]
    }
   ],
   "source": [
    "print(type(net[2].bias))\n",
    "print(net[2].bias)\n",
    "print(net[2].bias.data)"
   ]
  },
  {
   "cell_type": "code",
   "execution_count": 21,
   "id": "b031ab4d",
   "metadata": {},
   "outputs": [
    {
     "name": "stdout",
     "output_type": "stream",
     "text": [
      "('weight', torch.Size([8, 4])) ('bias', torch.Size([8]))\n",
      "('0.weight', torch.Size([8, 4])) ('0.bias', torch.Size([8])) ('2.weight', torch.Size([1, 8])) ('2.bias', torch.Size([1]))\n"
     ]
    }
   ],
   "source": [
    "print(*[(name, param.shape) for name, param in net[0].named_parameters()])\n",
    "\n",
    "print(*[(name, param.shape) for name, param in net.named_parameters()])\n"
   ]
  },
  {
   "cell_type": "code",
   "execution_count": 22,
   "id": "c17fe831",
   "metadata": {},
   "outputs": [
    {
     "name": "stdout",
     "output_type": "stream",
     "text": [
      "tensor([-0.1438])\n",
      "tensor([-0.1438])\n"
     ]
    }
   ],
   "source": [
    "print(net[2].state_dict()['bias'].data)\n",
    "print(net.state_dict()['2.bias'].data) # same as"
   ]
  },
  {
   "cell_type": "code",
   "execution_count": 11,
   "id": "ab62a08f",
   "metadata": {},
   "outputs": [
    {
     "data": {
      "text/plain": [
       "tensor([[-0.2315],\n",
       "        [-0.2313]], grad_fn=<AddmmBackward0>)"
      ]
     },
     "execution_count": 11,
     "metadata": {},
     "output_type": "execute_result"
    }
   ],
   "source": [
    "def block1():\n",
    "    return nn.Sequential(nn.Linear(4,8),\n",
    "                         nn.ReLU(),\n",
    "                         nn.Linear(8,4),\n",
    "                         nn.ReLU())\n",
    "\n",
    "def block2():\n",
    "    net = nn.Sequential()\n",
    "    for i in range(4):\n",
    "        net.add_module(f'block {i}', block1())\n",
    "    return net\n",
    "\n",
    "rgnet = nn.Sequential(block2(), nn.Linear(4,1))\n",
    "rgnet(X)"
   ]
  },
  {
   "cell_type": "code",
   "execution_count": 12,
   "id": "d62c6bd6",
   "metadata": {},
   "outputs": [
    {
     "name": "stdout",
     "output_type": "stream",
     "text": [
      "('0.block 0.0.weight', torch.Size([8, 4]))\n",
      "('0.block 0.0.bias', torch.Size([8]))\n",
      "('0.block 0.2.weight', torch.Size([4, 8]))\n",
      "('0.block 0.2.bias', torch.Size([4]))\n",
      "('0.block 1.0.weight', torch.Size([8, 4]))\n",
      "('0.block 1.0.bias', torch.Size([8]))\n",
      "('0.block 1.2.weight', torch.Size([4, 8]))\n",
      "('0.block 1.2.bias', torch.Size([4]))\n",
      "('0.block 2.0.weight', torch.Size([8, 4]))\n",
      "('0.block 2.0.bias', torch.Size([8]))\n",
      "('0.block 2.2.weight', torch.Size([4, 8]))\n",
      "('0.block 2.2.bias', torch.Size([4]))\n",
      "('0.block 3.0.weight', torch.Size([8, 4]))\n",
      "('0.block 3.0.bias', torch.Size([8]))\n",
      "('0.block 3.2.weight', torch.Size([4, 8]))\n",
      "('0.block 3.2.bias', torch.Size([4]))\n",
      "('1.weight', torch.Size([1, 4]))\n",
      "('1.bias', torch.Size([1]))\n"
     ]
    }
   ],
   "source": [
    "print(*[(name, param.shape) for name, param in rgnet.named_parameters()], sep=\"\\n\")"
   ]
  },
  {
   "cell_type": "code",
   "execution_count": 13,
   "id": "b186cc46",
   "metadata": {},
   "outputs": [
    {
     "name": "stdout",
     "output_type": "stream",
     "text": [
      "Sequential(\n",
      "  (0): Sequential(\n",
      "    (block 0): Sequential(\n",
      "      (0): Linear(in_features=4, out_features=8, bias=True)\n",
      "      (1): ReLU()\n",
      "      (2): Linear(in_features=8, out_features=4, bias=True)\n",
      "      (3): ReLU()\n",
      "    )\n",
      "    (block 1): Sequential(\n",
      "      (0): Linear(in_features=4, out_features=8, bias=True)\n",
      "      (1): ReLU()\n",
      "      (2): Linear(in_features=8, out_features=4, bias=True)\n",
      "      (3): ReLU()\n",
      "    )\n",
      "    (block 2): Sequential(\n",
      "      (0): Linear(in_features=4, out_features=8, bias=True)\n",
      "      (1): ReLU()\n",
      "      (2): Linear(in_features=8, out_features=4, bias=True)\n",
      "      (3): ReLU()\n",
      "    )\n",
      "    (block 3): Sequential(\n",
      "      (0): Linear(in_features=4, out_features=8, bias=True)\n",
      "      (1): ReLU()\n",
      "      (2): Linear(in_features=8, out_features=4, bias=True)\n",
      "      (3): ReLU()\n",
      "    )\n",
      "  )\n",
      "  (1): Linear(in_features=4, out_features=1, bias=True)\n",
      ")\n"
     ]
    }
   ],
   "source": [
    "print(rgnet)"
   ]
  },
  {
   "cell_type": "code",
   "execution_count": 27,
   "id": "e2058ca8",
   "metadata": {},
   "outputs": [
    {
     "data": {
      "text/plain": [
       "tensor([-0.1554,  0.3400,  0.2938,  0.1362,  0.2092,  0.2568,  0.2069,  0.4257])"
      ]
     },
     "execution_count": 27,
     "metadata": {},
     "output_type": "execute_result"
    }
   ],
   "source": [
    "rgnet[0][1][0].bias.data"
   ]
  },
  {
   "cell_type": "code",
   "execution_count": 28,
   "id": "68993bfe",
   "metadata": {},
   "outputs": [
    {
     "data": {
      "text/plain": [
       "(tensor([ 0.0024, -0.0036, -0.0080,  0.0112]), tensor(0.))"
      ]
     },
     "execution_count": 28,
     "metadata": {},
     "output_type": "execute_result"
    }
   ],
   "source": [
    "def init_normal(m):\n",
    "    if type(m) == nn.Linear:\n",
    "        nn.init.normal_(m.weight, mean=0, std=0.01)\n",
    "        nn.init.zeros_(m.bias)\n",
    "\n",
    "# actually, we do not have to do that because pytorch will initialize it for us\n",
    "net.apply(init_normal)\n",
    "net[0].weight.data[0], net[0].bias.data[0]"
   ]
  },
  {
   "cell_type": "code",
   "execution_count": null,
   "id": "11a5b71b",
   "metadata": {},
   "outputs": [
    {
     "data": {
      "text/plain": [
       "(tensor([1., 1., 1., 1.]), tensor(0.))"
      ]
     },
     "execution_count": 31,
     "metadata": {},
     "output_type": "execute_result"
    }
   ],
   "source": [
    "def init_constant(m):\n",
    "    if type(m) == nn.Linear:\n",
    "\n",
    "        # _ means replace = True\n",
    "        nn.init.constant_(m.weight, 1)\n",
    "        nn.init.zeros_(m.bias)\n",
    "\n",
    "# another init method\n",
    "net.apply(init_constant)\n",
    "net[0].weight.data[0], net[0].bias.data[0]"
   ]
  },
  {
   "cell_type": "code",
   "execution_count": 32,
   "id": "600cd731",
   "metadata": {},
   "outputs": [
    {
     "name": "stdout",
     "output_type": "stream",
     "text": [
      "tensor([-0.1334,  0.0748, -0.2355, -0.0801])\n",
      "tensor([[42., 42., 42., 42., 42., 42., 42., 42.]])\n"
     ]
    }
   ],
   "source": [
    "def init_xavier(m):\n",
    "    if type(m) == nn.Linear:\n",
    "        nn.init.xavier_uniform_(m.weight)\n",
    "def init_42(m):\n",
    "    if type(m) == nn.Linear:\n",
    "        nn.init.constant_(m.weight, 42)\n",
    "\n",
    "net[0].apply(init_xavier)\n",
    "net[2].apply(init_42)\n",
    "print(net[0].weight.data[0])\n",
    "print(net[2].weight.data)"
   ]
  },
  {
   "cell_type": "code",
   "execution_count": 33,
   "id": "891a688b",
   "metadata": {},
   "outputs": [
    {
     "name": "stdout",
     "output_type": "stream",
     "text": [
      "Init weight torch.Size([8, 4])\n",
      "Init weight torch.Size([1, 8])\n"
     ]
    },
    {
     "data": {
      "text/plain": [
       "tensor([[ 8.3071,  8.6604,  0.0000,  5.4948],\n",
       "        [-5.3545,  0.0000,  9.5895, -0.0000]], grad_fn=<SliceBackward0>)"
      ]
     },
     "execution_count": 33,
     "metadata": {},
     "output_type": "execute_result"
    }
   ],
   "source": [
    "# init whatever you want\n",
    "def my_init(m):\n",
    "    if type(m) == nn.Linear:\n",
    "        print(\"Init\", \n",
    "              *[(name, param.shape) \n",
    "                for name, param in m.named_parameters()][0])\n",
    "        nn.init.uniform_(m.weight, -10, 10)\n",
    "        m.weight.data *= m.weight.data.abs() >= 5\n",
    "\n",
    "net.apply(my_init)\n",
    "net[0].weight[:2]"
   ]
  },
  {
   "cell_type": "code",
   "execution_count": 34,
   "id": "04367868",
   "metadata": {},
   "outputs": [
    {
     "name": "stdout",
     "output_type": "stream",
     "text": [
      "tensor([True, True, True, True, True, True, True, True])\n",
      "tensor([True, True, True, True, True, True, True, True])\n"
     ]
    }
   ],
   "source": [
    "# 我们需要给共享层一个名称，以便可以引用它的参数\n",
    "shared = nn.Linear(8, 8)\n",
    "net = nn.Sequential(nn.Linear(4, 8), \n",
    "                    nn.ReLU(),\n",
    "                    shared, \n",
    "                    nn.ReLU(),\n",
    "                    shared, \n",
    "                    nn.ReLU(),\n",
    "                    nn.Linear(8, 1))\n",
    "net(X)\n",
    "# 检查参数是否相同\n",
    "print(net[2].weight.data[0] == net[4].weight.data[0])\n",
    "net[2].weight.data[0, 0] = 100\n",
    "# 确保它们实际上是同一个对象，而不只是有相同的值\n",
    "print(net[2].weight.data[0] == net[4].weight.data[0])"
   ]
  },
  {
   "cell_type": "markdown",
   "id": "9d95eb85",
   "metadata": {},
   "source": [
    "you can also customization layer"
   ]
  },
  {
   "cell_type": "code",
   "execution_count": 43,
   "id": "06dafeba",
   "metadata": {},
   "outputs": [
    {
     "data": {
      "text/plain": [
       "(tensor([-1.2649, -0.6325,  0.0000,  0.6325,  1.2649]),\n",
       " tensor([0.7311, 0.8808, 0.9526, 0.9820, 0.9933]))"
      ]
     },
     "execution_count": 43,
     "metadata": {},
     "output_type": "execute_result"
    }
   ],
   "source": [
    "class CenteredLayer(nn.Module):\n",
    "    def __init__(self):\n",
    "        super().__init__()\n",
    "\n",
    "    def forward(self, X):\n",
    "        return (X - X.mean()) / X.std()\n",
    "\n",
    "layer = CenteredLayer()\n",
    "ct_tensor = torch.FloatTensor([1,2,3,4,5])\n",
    "layer(ct_tensor), F.sigmoid(ct_tensor)"
   ]
  },
  {
   "cell_type": "code",
   "execution_count": null,
   "id": "a73a1287",
   "metadata": {},
   "outputs": [
    {
     "data": {
      "text/plain": [
       "(tensor(2.6077e-08, grad_fn=<MeanBackward0>),\n",
       " tensor(1., grad_fn=<StdBackward0>))"
      ]
     },
     "execution_count": 51,
     "metadata": {},
     "output_type": "execute_result"
    }
   ],
   "source": [
    "# and we use our customized layer in nn\n",
    "net = nn.Sequential(nn.Linear(8,128), \n",
    "                    CenteredLayer())\n",
    "\n",
    "# CenteredLayer() make Y become a mean = 0, std = 1 rv\n",
    "Y = net(torch.rand(4,8))\n",
    "Y.mean(), Y.std()    "
   ]
  },
  {
   "cell_type": "code",
   "execution_count": 59,
   "id": "bb82e191",
   "metadata": {},
   "outputs": [
    {
     "data": {
      "text/plain": [
       "Parameter containing:\n",
       "tensor([[-1.2870,  0.8693, -0.4714],\n",
       "        [ 0.2476, -0.0401,  0.3944],\n",
       "        [ 1.8425,  1.2547,  0.0323],\n",
       "        [-0.2044, -0.2735, -1.5424],\n",
       "        [-1.5960, -1.0708,  0.9460]], requires_grad=True)"
      ]
     },
     "execution_count": 59,
     "metadata": {},
     "output_type": "execute_result"
    }
   ],
   "source": [
    "# layer including parameters\n",
    "class MyLinear(nn.Module):\n",
    "    def __init__(self, in_units, units):\n",
    "        super().__init__()\n",
    "        self.weight = nn.Parameter(torch.randn(in_units, units))\n",
    "        self.bias = nn.Parameter(torch.randn(units))\n",
    "\n",
    "    def forward(self, X):\n",
    "        linear = torch.matmul(X, self.weight) + self.bias\n",
    "        return F.relu(linear)\n",
    "    \n",
    "dense = MyLinear(5, 3)\n",
    "dense.weight"
   ]
  },
  {
   "cell_type": "code",
   "execution_count": 68,
   "id": "d30a1b14",
   "metadata": {},
   "outputs": [
    {
     "data": {
      "text/plain": [
       "tensor([[0.],\n",
       "        [0.]], grad_fn=<ReluBackward0>)"
      ]
     },
     "execution_count": 68,
     "metadata": {},
     "output_type": "execute_result"
    }
   ],
   "source": [
    "net  = nn.Sequential(MyLinear(64,8),\n",
    "                     MyLinear(8, 1))\n",
    "\n",
    "net(torch.rand(2, 64))"
   ]
  },
  {
   "cell_type": "markdown",
   "id": "763682f5",
   "metadata": {},
   "source": [
    "### Saving files"
   ]
  },
  {
   "cell_type": "code",
   "execution_count": 74,
   "id": "a2a416a4",
   "metadata": {},
   "outputs": [
    {
     "name": "stdout",
     "output_type": "stream",
     "text": [
      "tensor([[0, 1],\n",
      "        [2, 3],\n",
      "        [4, 5],\n",
      "        [6, 7]])\n"
     ]
    },
    {
     "data": {
      "text/plain": [
       "tensor([[0, 1],\n",
       "        [2, 3],\n",
       "        [4, 5],\n",
       "        [6, 7]])"
      ]
     },
     "execution_count": 74,
     "metadata": {},
     "output_type": "execute_result"
    }
   ],
   "source": [
    "matrix = torch.arange(8).view(4, 2)\n",
    "torch.save(matrix, '../data/matrix-file')\n",
    "print(matrix)\n",
    "\n",
    "x2 = torch.load('../data/matrix-file')\n",
    "x2"
   ]
  },
  {
   "cell_type": "markdown",
   "id": "c9ec9d72",
   "metadata": {},
   "source": [
    "How can I save a MLP?"
   ]
  },
  {
   "cell_type": "code",
   "execution_count": 76,
   "id": "2065601c",
   "metadata": {},
   "outputs": [
    {
     "data": {
      "text/plain": [
       "tensor([[ 0.2719, -0.1220,  0.0460,  0.0040,  0.0071,  0.4501,  0.0755,  0.2225,\n",
       "          0.2181,  0.0275],\n",
       "        [-0.1422,  0.0183, -0.1103,  0.4559, -0.0465,  0.3411,  0.2825,  0.5192,\n",
       "          0.3347, -0.0471]], grad_fn=<AddmmBackward0>)"
      ]
     },
     "execution_count": 76,
     "metadata": {},
     "output_type": "execute_result"
    }
   ],
   "source": [
    "class MLP(nn.Module):\n",
    "    def __init__(self):\n",
    "        super().__init__()\n",
    "        self.hidden = nn.Linear(20, 256)\n",
    "        self.output = nn.Linear(256, 10)\n",
    "\n",
    "    def forward(self, x):\n",
    "        return self.output(F.relu(self.hidden(x)))\n",
    "\n",
    "net = MLP()\n",
    "X = torch.randn(size=(2, 20))\n",
    "Y = net(X)\n",
    "Y"
   ]
  },
  {
   "cell_type": "code",
   "execution_count": 77,
   "id": "49fea9ce",
   "metadata": {},
   "outputs": [],
   "source": [
    "torch.save(net.state_dict(), '../model/mlp.params')"
   ]
  },
  {
   "cell_type": "code",
   "execution_count": 79,
   "id": "a0efddef",
   "metadata": {},
   "outputs": [
    {
     "data": {
      "text/plain": [
       "tensor([[True, True, True, True, True, True, True, True, True, True],\n",
       "        [True, True, True, True, True, True, True, True, True, True]])"
      ]
     },
     "execution_count": 79,
     "metadata": {},
     "output_type": "execute_result"
    }
   ],
   "source": [
    "clone = MLP()\n",
    "clone.load_state_dict(torch.load('../model/mlp.params'))\n",
    "clone.eval()\n",
    "Y_clone = clone(X)\n",
    "Y_clone == Y"
   ]
  },
  {
   "cell_type": "code",
   "execution_count": null,
   "id": "500b2023",
   "metadata": {},
   "outputs": [],
   "source": []
  },
  {
   "cell_type": "code",
   "execution_count": null,
   "id": "e9893003",
   "metadata": {},
   "outputs": [],
   "source": []
  }
 ],
 "metadata": {
  "kernelspec": {
   "display_name": "DataAnalysis",
   "language": "python",
   "name": "dataanalysis"
  },
  "language_info": {
   "codemirror_mode": {
    "name": "ipython",
    "version": 3
   },
   "file_extension": ".py",
   "mimetype": "text/x-python",
   "name": "python",
   "nbconvert_exporter": "python",
   "pygments_lexer": "ipython3",
   "version": "3.9.18"
  }
 },
 "nbformat": 4,
 "nbformat_minor": 5
}
